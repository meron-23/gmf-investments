{
 "cells": [
  {
   "cell_type": "code",
   "execution_count": null,
   "id": "6ba2f40e",
   "metadata": {
    "vscode": {
     "languageId": "plaintext"
    }
   },
   "outputs": [],
   "source": [
    "# notebooks/eda.ipynb\n",
    "import pandas as pd\n",
    "import matplotlib.pyplot as plt\n",
    "\n",
    "assets = {}\n",
    "for ticker in [\"TSLA\", \"BND\", \"SPY\"]:\n",
    "    assets[ticker] = pd.read_csv(f\"data/{ticker}_clean.csv\", parse_dates=[\"Date\"], index_col=\"Date\")\n"
   ]
  },
  {
   "cell_type": "code",
   "execution_count": null,
   "id": "098e81ce",
   "metadata": {
    "vscode": {
     "languageId": "plaintext"
    }
   },
   "outputs": [],
   "source": [
    "# Closing price trend\n",
    "plt.figure(figsize=(12,6))\n",
    "for ticker, df in assets.items():\n",
    "    plt.plot(df.index, df[\"Adj Close\"], label=ticker)\n",
    "plt.title(\"Closing Prices (2015–2025)\")\n",
    "plt.legend()\n",
    "plt.show()"
   ]
  },
  {
   "cell_type": "code",
   "execution_count": null,
   "id": "5edb4784",
   "metadata": {
    "vscode": {
     "languageId": "plaintext"
    }
   },
   "outputs": [],
   "source": [
    "# Daily returns\n",
    "returns = pd.DataFrame()\n",
    "for ticker, df in assets.items():\n",
    "    returns[ticker] = df[\"Adj Close\"].pct_change()"
   ]
  },
  {
   "cell_type": "code",
   "execution_count": null,
   "id": "9973c7da",
   "metadata": {
    "vscode": {
     "languageId": "plaintext"
    }
   },
   "outputs": [],
   "source": [
    "\n",
    "# Rolling volatility (20-day std)\n",
    "rolling_vol = returns.rolling(window=20).std()\n",
    "\n",
    "plt.figure(figsize=(12,6))\n",
    "for ticker in returns.columns:\n",
    "    plt.plot(rolling_vol.index, rolling_vol[ticker], label=f\"{ticker} Volatility\")\n",
    "plt.title(\"20-Day Rolling Volatility\")\n",
    "plt.legend()\n",
    "plt.show()"
   ]
  },
  {
   "cell_type": "code",
   "execution_count": null,
   "id": "df9406ab",
   "metadata": {
    "vscode": {
     "languageId": "plaintext"
    }
   },
   "outputs": [],
   "source": [
    "import numpy as np\n",
    "\n",
    "for ticker in returns.columns:\n",
    "    daily_return = returns[ticker].dropna()\n",
    "    var_95 = np.percentile(daily_return, 5)  # Historical VaR at 95%\n",
    "    sharpe = (daily_return.mean() / daily_return.std()) * np.sqrt(252)\n",
    "    print(f\"{ticker} → VaR(95%): {var_95:.4f}, Sharpe Ratio: {sharpe:.2f}\")\n"
   ]
  }
 ],
 "metadata": {
  "language_info": {
   "name": "python"
  }
 },
 "nbformat": 4,
 "nbformat_minor": 5
}
